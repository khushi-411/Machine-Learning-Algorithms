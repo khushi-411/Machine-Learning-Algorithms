{
 "cells": [
  {
   "cell_type": "markdown",
   "metadata": {},
   "source": [
    "# <center> <font color='blue'>**LINEAR REGRESSION**</font> </center>"
   ]
  },
  {
   "cell_type": "markdown",
   "metadata": {},
   "source": [
    "### **Importing Libraries**"
   ]
  },
  {
   "cell_type": "code",
   "execution_count": 1,
   "metadata": {},
   "outputs": [],
   "source": [
    "# Import required libraries\n",
    "\n",
    "import pandas as pd\n",
    "import numpy as np\n",
    "import matplotlib.pyplot as plt"
   ]
  },
  {
   "cell_type": "markdown",
   "metadata": {},
   "source": [
    "### **All About Data**"
   ]
  },
  {
   "cell_type": "code",
   "execution_count": 2,
   "metadata": {},
   "outputs": [],
   "source": [
    "df = pd.read_csv(r\"C:\\Users\\91939\\Downloads\\Real estate.csv\")"
   ]
  },
  {
   "cell_type": "code",
   "execution_count": 3,
   "metadata": {},
   "outputs": [
    {
     "data": {
      "text/html": [
       "<div>\n",
       "<style scoped>\n",
       "    .dataframe tbody tr th:only-of-type {\n",
       "        vertical-align: middle;\n",
       "    }\n",
       "\n",
       "    .dataframe tbody tr th {\n",
       "        vertical-align: top;\n",
       "    }\n",
       "\n",
       "    .dataframe thead th {\n",
       "        text-align: right;\n",
       "    }\n",
       "</style>\n",
       "<table border=\"1\" class=\"dataframe\">\n",
       "  <thead>\n",
       "    <tr style=\"text-align: right;\">\n",
       "      <th></th>\n",
       "      <th>No</th>\n",
       "      <th>X1 transaction date</th>\n",
       "      <th>X2 house age</th>\n",
       "      <th>X3 distance to the nearest MRT station</th>\n",
       "      <th>X4 number of convenience stores</th>\n",
       "      <th>X5 latitude</th>\n",
       "      <th>X6 longitude</th>\n",
       "      <th>Y house price of unit area</th>\n",
       "    </tr>\n",
       "  </thead>\n",
       "  <tbody>\n",
       "    <tr>\n",
       "      <th>0</th>\n",
       "      <td>1</td>\n",
       "      <td>2012.917</td>\n",
       "      <td>32.0</td>\n",
       "      <td>84.87882</td>\n",
       "      <td>10</td>\n",
       "      <td>24.98298</td>\n",
       "      <td>121.54024</td>\n",
       "      <td>37.9</td>\n",
       "    </tr>\n",
       "    <tr>\n",
       "      <th>1</th>\n",
       "      <td>2</td>\n",
       "      <td>2012.917</td>\n",
       "      <td>19.5</td>\n",
       "      <td>306.59470</td>\n",
       "      <td>9</td>\n",
       "      <td>24.98034</td>\n",
       "      <td>121.53951</td>\n",
       "      <td>42.2</td>\n",
       "    </tr>\n",
       "    <tr>\n",
       "      <th>2</th>\n",
       "      <td>3</td>\n",
       "      <td>2013.583</td>\n",
       "      <td>13.3</td>\n",
       "      <td>561.98450</td>\n",
       "      <td>5</td>\n",
       "      <td>24.98746</td>\n",
       "      <td>121.54391</td>\n",
       "      <td>47.3</td>\n",
       "    </tr>\n",
       "    <tr>\n",
       "      <th>3</th>\n",
       "      <td>4</td>\n",
       "      <td>2013.500</td>\n",
       "      <td>13.3</td>\n",
       "      <td>561.98450</td>\n",
       "      <td>5</td>\n",
       "      <td>24.98746</td>\n",
       "      <td>121.54391</td>\n",
       "      <td>54.8</td>\n",
       "    </tr>\n",
       "    <tr>\n",
       "      <th>4</th>\n",
       "      <td>5</td>\n",
       "      <td>2012.833</td>\n",
       "      <td>5.0</td>\n",
       "      <td>390.56840</td>\n",
       "      <td>5</td>\n",
       "      <td>24.97937</td>\n",
       "      <td>121.54245</td>\n",
       "      <td>43.1</td>\n",
       "    </tr>\n",
       "  </tbody>\n",
       "</table>\n",
       "</div>"
      ],
      "text/plain": [
       "   No  X1 transaction date  X2 house age  \\\n",
       "0   1             2012.917          32.0   \n",
       "1   2             2012.917          19.5   \n",
       "2   3             2013.583          13.3   \n",
       "3   4             2013.500          13.3   \n",
       "4   5             2012.833           5.0   \n",
       "\n",
       "   X3 distance to the nearest MRT station  X4 number of convenience stores  \\\n",
       "0                                84.87882                               10   \n",
       "1                               306.59470                                9   \n",
       "2                               561.98450                                5   \n",
       "3                               561.98450                                5   \n",
       "4                               390.56840                                5   \n",
       "\n",
       "   X5 latitude  X6 longitude  Y house price of unit area  \n",
       "0     24.98298     121.54024                        37.9  \n",
       "1     24.98034     121.53951                        42.2  \n",
       "2     24.98746     121.54391                        47.3  \n",
       "3     24.98746     121.54391                        54.8  \n",
       "4     24.97937     121.54245                        43.1  "
      ]
     },
     "execution_count": 3,
     "metadata": {},
     "output_type": "execute_result"
    }
   ],
   "source": [
    "df.head()"
   ]
  },
  {
   "cell_type": "code",
   "execution_count": 4,
   "metadata": {},
   "outputs": [
    {
     "data": {
      "text/html": [
       "<div>\n",
       "<style scoped>\n",
       "    .dataframe tbody tr th:only-of-type {\n",
       "        vertical-align: middle;\n",
       "    }\n",
       "\n",
       "    .dataframe tbody tr th {\n",
       "        vertical-align: top;\n",
       "    }\n",
       "\n",
       "    .dataframe thead th {\n",
       "        text-align: right;\n",
       "    }\n",
       "</style>\n",
       "<table border=\"1\" class=\"dataframe\">\n",
       "  <thead>\n",
       "    <tr style=\"text-align: right;\">\n",
       "      <th></th>\n",
       "      <th>No</th>\n",
       "      <th>X1 transaction date</th>\n",
       "      <th>X2 house age</th>\n",
       "      <th>X3 distance to the nearest MRT station</th>\n",
       "      <th>X4 number of convenience stores</th>\n",
       "      <th>X5 latitude</th>\n",
       "      <th>X6 longitude</th>\n",
       "      <th>Y house price of unit area</th>\n",
       "    </tr>\n",
       "  </thead>\n",
       "  <tbody>\n",
       "    <tr>\n",
       "      <th>count</th>\n",
       "      <td>414.000000</td>\n",
       "      <td>414.000000</td>\n",
       "      <td>414.000000</td>\n",
       "      <td>414.000000</td>\n",
       "      <td>414.000000</td>\n",
       "      <td>414.000000</td>\n",
       "      <td>414.000000</td>\n",
       "      <td>414.000000</td>\n",
       "    </tr>\n",
       "    <tr>\n",
       "      <th>mean</th>\n",
       "      <td>207.500000</td>\n",
       "      <td>2013.148971</td>\n",
       "      <td>17.712560</td>\n",
       "      <td>1083.885689</td>\n",
       "      <td>4.094203</td>\n",
       "      <td>24.969030</td>\n",
       "      <td>121.533361</td>\n",
       "      <td>37.980193</td>\n",
       "    </tr>\n",
       "    <tr>\n",
       "      <th>std</th>\n",
       "      <td>119.655756</td>\n",
       "      <td>0.281967</td>\n",
       "      <td>11.392485</td>\n",
       "      <td>1262.109595</td>\n",
       "      <td>2.945562</td>\n",
       "      <td>0.012410</td>\n",
       "      <td>0.015347</td>\n",
       "      <td>13.606488</td>\n",
       "    </tr>\n",
       "    <tr>\n",
       "      <th>min</th>\n",
       "      <td>1.000000</td>\n",
       "      <td>2012.667000</td>\n",
       "      <td>0.000000</td>\n",
       "      <td>23.382840</td>\n",
       "      <td>0.000000</td>\n",
       "      <td>24.932070</td>\n",
       "      <td>121.473530</td>\n",
       "      <td>7.600000</td>\n",
       "    </tr>\n",
       "    <tr>\n",
       "      <th>25%</th>\n",
       "      <td>104.250000</td>\n",
       "      <td>2012.917000</td>\n",
       "      <td>9.025000</td>\n",
       "      <td>289.324800</td>\n",
       "      <td>1.000000</td>\n",
       "      <td>24.963000</td>\n",
       "      <td>121.528085</td>\n",
       "      <td>27.700000</td>\n",
       "    </tr>\n",
       "    <tr>\n",
       "      <th>50%</th>\n",
       "      <td>207.500000</td>\n",
       "      <td>2013.167000</td>\n",
       "      <td>16.100000</td>\n",
       "      <td>492.231300</td>\n",
       "      <td>4.000000</td>\n",
       "      <td>24.971100</td>\n",
       "      <td>121.538630</td>\n",
       "      <td>38.450000</td>\n",
       "    </tr>\n",
       "    <tr>\n",
       "      <th>75%</th>\n",
       "      <td>310.750000</td>\n",
       "      <td>2013.417000</td>\n",
       "      <td>28.150000</td>\n",
       "      <td>1454.279000</td>\n",
       "      <td>6.000000</td>\n",
       "      <td>24.977455</td>\n",
       "      <td>121.543305</td>\n",
       "      <td>46.600000</td>\n",
       "    </tr>\n",
       "    <tr>\n",
       "      <th>max</th>\n",
       "      <td>414.000000</td>\n",
       "      <td>2013.583000</td>\n",
       "      <td>43.800000</td>\n",
       "      <td>6488.021000</td>\n",
       "      <td>10.000000</td>\n",
       "      <td>25.014590</td>\n",
       "      <td>121.566270</td>\n",
       "      <td>117.500000</td>\n",
       "    </tr>\n",
       "  </tbody>\n",
       "</table>\n",
       "</div>"
      ],
      "text/plain": [
       "               No  X1 transaction date  X2 house age  \\\n",
       "count  414.000000           414.000000    414.000000   \n",
       "mean   207.500000          2013.148971     17.712560   \n",
       "std    119.655756             0.281967     11.392485   \n",
       "min      1.000000          2012.667000      0.000000   \n",
       "25%    104.250000          2012.917000      9.025000   \n",
       "50%    207.500000          2013.167000     16.100000   \n",
       "75%    310.750000          2013.417000     28.150000   \n",
       "max    414.000000          2013.583000     43.800000   \n",
       "\n",
       "       X3 distance to the nearest MRT station  \\\n",
       "count                              414.000000   \n",
       "mean                              1083.885689   \n",
       "std                               1262.109595   \n",
       "min                                 23.382840   \n",
       "25%                                289.324800   \n",
       "50%                                492.231300   \n",
       "75%                               1454.279000   \n",
       "max                               6488.021000   \n",
       "\n",
       "       X4 number of convenience stores  X5 latitude  X6 longitude  \\\n",
       "count                       414.000000   414.000000    414.000000   \n",
       "mean                          4.094203    24.969030    121.533361   \n",
       "std                           2.945562     0.012410      0.015347   \n",
       "min                           0.000000    24.932070    121.473530   \n",
       "25%                           1.000000    24.963000    121.528085   \n",
       "50%                           4.000000    24.971100    121.538630   \n",
       "75%                           6.000000    24.977455    121.543305   \n",
       "max                          10.000000    25.014590    121.566270   \n",
       "\n",
       "       Y house price of unit area  \n",
       "count                  414.000000  \n",
       "mean                    37.980193  \n",
       "std                     13.606488  \n",
       "min                      7.600000  \n",
       "25%                     27.700000  \n",
       "50%                     38.450000  \n",
       "75%                     46.600000  \n",
       "max                    117.500000  "
      ]
     },
     "execution_count": 4,
     "metadata": {},
     "output_type": "execute_result"
    }
   ],
   "source": [
    "df.describe()"
   ]
  },
  {
   "cell_type": "code",
   "execution_count": 5,
   "metadata": {},
   "outputs": [
    {
     "name": "stdout",
     "output_type": "stream",
     "text": [
      "<class 'pandas.core.frame.DataFrame'>\n",
      "RangeIndex: 414 entries, 0 to 413\n",
      "Data columns (total 8 columns):\n",
      " #   Column                                  Non-Null Count  Dtype  \n",
      "---  ------                                  --------------  -----  \n",
      " 0   No                                      414 non-null    int64  \n",
      " 1   X1 transaction date                     414 non-null    float64\n",
      " 2   X2 house age                            414 non-null    float64\n",
      " 3   X3 distance to the nearest MRT station  414 non-null    float64\n",
      " 4   X4 number of convenience stores         414 non-null    int64  \n",
      " 5   X5 latitude                             414 non-null    float64\n",
      " 6   X6 longitude                            414 non-null    float64\n",
      " 7   Y house price of unit area              414 non-null    float64\n",
      "dtypes: float64(6), int64(2)\n",
      "memory usage: 26.0 KB\n"
     ]
    }
   ],
   "source": [
    "df.info()"
   ]
  },
  {
   "cell_type": "code",
   "execution_count": 6,
   "metadata": {},
   "outputs": [
    {
     "data": {
      "text/plain": [
       "8"
      ]
     },
     "execution_count": 6,
     "metadata": {},
     "output_type": "execute_result"
    }
   ],
   "source": [
    "len(df.columns)"
   ]
  },
  {
   "cell_type": "code",
   "execution_count": 7,
   "metadata": {},
   "outputs": [
    {
     "data": {
      "text/plain": [
       "'X1 transaction date'"
      ]
     },
     "execution_count": 7,
     "metadata": {},
     "output_type": "execute_result"
    }
   ],
   "source": [
    "df.columns[1]"
   ]
  },
  {
   "cell_type": "code",
   "execution_count": 8,
   "metadata": {},
   "outputs": [
    {
     "data": {
      "text/html": [
       "<div>\n",
       "<style scoped>\n",
       "    .dataframe tbody tr th:only-of-type {\n",
       "        vertical-align: middle;\n",
       "    }\n",
       "\n",
       "    .dataframe tbody tr th {\n",
       "        vertical-align: top;\n",
       "    }\n",
       "\n",
       "    .dataframe thead th {\n",
       "        text-align: right;\n",
       "    }\n",
       "</style>\n",
       "<table border=\"1\" class=\"dataframe\">\n",
       "  <thead>\n",
       "    <tr style=\"text-align: right;\">\n",
       "      <th></th>\n",
       "      <th>0</th>\n",
       "      <th>1</th>\n",
       "      <th>2</th>\n",
       "      <th>3</th>\n",
       "      <th>4</th>\n",
       "      <th>5</th>\n",
       "      <th>6</th>\n",
       "      <th>7</th>\n",
       "    </tr>\n",
       "  </thead>\n",
       "  <tbody>\n",
       "    <tr>\n",
       "      <th>0</th>\n",
       "      <td>1</td>\n",
       "      <td>2012.917</td>\n",
       "      <td>32.0</td>\n",
       "      <td>84.87882</td>\n",
       "      <td>10</td>\n",
       "      <td>24.98298</td>\n",
       "      <td>121.54024</td>\n",
       "      <td>37.9</td>\n",
       "    </tr>\n",
       "    <tr>\n",
       "      <th>1</th>\n",
       "      <td>2</td>\n",
       "      <td>2012.917</td>\n",
       "      <td>19.5</td>\n",
       "      <td>306.59470</td>\n",
       "      <td>9</td>\n",
       "      <td>24.98034</td>\n",
       "      <td>121.53951</td>\n",
       "      <td>42.2</td>\n",
       "    </tr>\n",
       "    <tr>\n",
       "      <th>2</th>\n",
       "      <td>3</td>\n",
       "      <td>2013.583</td>\n",
       "      <td>13.3</td>\n",
       "      <td>561.98450</td>\n",
       "      <td>5</td>\n",
       "      <td>24.98746</td>\n",
       "      <td>121.54391</td>\n",
       "      <td>47.3</td>\n",
       "    </tr>\n",
       "    <tr>\n",
       "      <th>3</th>\n",
       "      <td>4</td>\n",
       "      <td>2013.500</td>\n",
       "      <td>13.3</td>\n",
       "      <td>561.98450</td>\n",
       "      <td>5</td>\n",
       "      <td>24.98746</td>\n",
       "      <td>121.54391</td>\n",
       "      <td>54.8</td>\n",
       "    </tr>\n",
       "    <tr>\n",
       "      <th>4</th>\n",
       "      <td>5</td>\n",
       "      <td>2012.833</td>\n",
       "      <td>5.0</td>\n",
       "      <td>390.56840</td>\n",
       "      <td>5</td>\n",
       "      <td>24.97937</td>\n",
       "      <td>121.54245</td>\n",
       "      <td>43.1</td>\n",
       "    </tr>\n",
       "  </tbody>\n",
       "</table>\n",
       "</div>"
      ],
      "text/plain": [
       "   0         1     2          3   4         5          6     7\n",
       "0  1  2012.917  32.0   84.87882  10  24.98298  121.54024  37.9\n",
       "1  2  2012.917  19.5  306.59470   9  24.98034  121.53951  42.2\n",
       "2  3  2013.583  13.3  561.98450   5  24.98746  121.54391  47.3\n",
       "3  4  2013.500  13.3  561.98450   5  24.98746  121.54391  54.8\n",
       "4  5  2012.833   5.0  390.56840   5  24.97937  121.54245  43.1"
      ]
     },
     "execution_count": 8,
     "metadata": {},
     "output_type": "execute_result"
    }
   ],
   "source": [
    "# Replacing column names with numbers\n",
    "\n",
    "df.columns = [num for num in range(len(df.columns))]\n",
    "df.head()"
   ]
  },
  {
   "cell_type": "markdown",
   "metadata": {},
   "source": [
    "#### **Creating DataFrame for Dividing it into <font color = 'red'> Train </font> and <font color = 'red'> Test </font> Data**"
   ]
  },
  {
   "cell_type": "code",
   "execution_count": 9,
   "metadata": {},
   "outputs": [
    {
     "name": "stdout",
     "output_type": "stream",
     "text": [
      "X_df2 : \n"
     ]
    },
    {
     "data": {
      "text/html": [
       "<div>\n",
       "<style scoped>\n",
       "    .dataframe tbody tr th:only-of-type {\n",
       "        vertical-align: middle;\n",
       "    }\n",
       "\n",
       "    .dataframe tbody tr th {\n",
       "        vertical-align: top;\n",
       "    }\n",
       "\n",
       "    .dataframe thead th {\n",
       "        text-align: right;\n",
       "    }\n",
       "</style>\n",
       "<table border=\"1\" class=\"dataframe\">\n",
       "  <thead>\n",
       "    <tr style=\"text-align: right;\">\n",
       "      <th></th>\n",
       "      <th>2</th>\n",
       "    </tr>\n",
       "  </thead>\n",
       "  <tbody>\n",
       "    <tr>\n",
       "      <th>0</th>\n",
       "      <td>32.0</td>\n",
       "    </tr>\n",
       "    <tr>\n",
       "      <th>1</th>\n",
       "      <td>19.5</td>\n",
       "    </tr>\n",
       "    <tr>\n",
       "      <th>2</th>\n",
       "      <td>13.3</td>\n",
       "    </tr>\n",
       "    <tr>\n",
       "      <th>3</th>\n",
       "      <td>13.3</td>\n",
       "    </tr>\n",
       "    <tr>\n",
       "      <th>4</th>\n",
       "      <td>5.0</td>\n",
       "    </tr>\n",
       "  </tbody>\n",
       "</table>\n",
       "</div>"
      ],
      "text/plain": [
       "      2\n",
       "0  32.0\n",
       "1  19.5\n",
       "2  13.3\n",
       "3  13.3\n",
       "4   5.0"
      ]
     },
     "execution_count": 9,
     "metadata": {},
     "output_type": "execute_result"
    }
   ],
   "source": [
    "X_df1 = df.drop(df.columns[[0, 2, 3, 4, 5, 6, 7]], axis = 1)\n",
    "X_df2 = df.drop(df.columns[[0, 1, 3, 4, 5, 6, 7]], axis = 1)\n",
    "X_df3 = df.drop(df.columns[[0, 1, 2, 4, 5, 6, 7]], axis = 1)\n",
    "X_df4 = df.drop(df.columns[[0, 1, 2, 3, 5, 6, 7]], axis = 1)\n",
    "X_df5 = df.drop(df.columns[[0, 1, 2, 3, 4, 6, 7]], axis = 1)\n",
    "X_df6 = df.drop(df.columns[[0, 1, 2, 3, 4, 5, 7]], axis = 1)\n",
    "X_df7 = df.drop(df.columns[[0, 1, 2, 3, 4, 5, 6]], axis = 1)\n",
    "print(\"X_df2 : \")\n",
    "X_df2.head()"
   ]
  },
  {
   "cell_type": "code",
   "execution_count": 10,
   "metadata": {},
   "outputs": [
    {
     "data": {
      "text/html": [
       "<div>\n",
       "<style scoped>\n",
       "    .dataframe tbody tr th:only-of-type {\n",
       "        vertical-align: middle;\n",
       "    }\n",
       "\n",
       "    .dataframe tbody tr th {\n",
       "        vertical-align: top;\n",
       "    }\n",
       "\n",
       "    .dataframe thead th {\n",
       "        text-align: right;\n",
       "    }\n",
       "</style>\n",
       "<table border=\"1\" class=\"dataframe\">\n",
       "  <thead>\n",
       "    <tr style=\"text-align: right;\">\n",
       "      <th></th>\n",
       "      <th>7</th>\n",
       "    </tr>\n",
       "  </thead>\n",
       "  <tbody>\n",
       "    <tr>\n",
       "      <th>0</th>\n",
       "      <td>37.9</td>\n",
       "    </tr>\n",
       "    <tr>\n",
       "      <th>1</th>\n",
       "      <td>42.2</td>\n",
       "    </tr>\n",
       "    <tr>\n",
       "      <th>2</th>\n",
       "      <td>47.3</td>\n",
       "    </tr>\n",
       "    <tr>\n",
       "      <th>3</th>\n",
       "      <td>54.8</td>\n",
       "    </tr>\n",
       "    <tr>\n",
       "      <th>4</th>\n",
       "      <td>43.1</td>\n",
       "    </tr>\n",
       "  </tbody>\n",
       "</table>\n",
       "</div>"
      ],
      "text/plain": [
       "      7\n",
       "0  37.9\n",
       "1  42.2\n",
       "2  47.3\n",
       "3  54.8\n",
       "4  43.1"
      ]
     },
     "execution_count": 10,
     "metadata": {},
     "output_type": "execute_result"
    }
   ],
   "source": [
    "Y_df = df.drop(df.columns[[0, 1, 2, 3, 4, 5, 6]], axis = 1)\n",
    "Y_df.head()"
   ]
  },
  {
   "cell_type": "markdown",
   "metadata": {},
   "source": [
    "### **Spliting Data For Training and Testing**"
   ]
  },
  {
   "cell_type": "code",
   "execution_count": 11,
   "metadata": {},
   "outputs": [],
   "source": [
    "X_train = X_df2.sample(frac = 0.8, random_state = 200)\n",
    "X_test = X_df2.drop(X_train.index)\n",
    "\n",
    "Y_train = Y_df.sample(frac = 0.8, random_state = 200)\n",
    "Y_test = Y_df.drop(Y_train.index)"
   ]
  },
  {
   "cell_type": "code",
   "execution_count": 12,
   "metadata": {},
   "outputs": [],
   "source": [
    "# Changing Dataframe to array\n",
    "\n",
    "X_train_arr = X_train.to_numpy()\n",
    "X_test_arr = X_test.to_numpy()\n",
    "Y_train_arr = Y_train.to_numpy()\n",
    "Y_test_arr = Y_test.to_numpy()"
   ]
  },
  {
   "cell_type": "code",
   "execution_count": 13,
   "metadata": {},
   "outputs": [
    {
     "name": "stdout",
     "output_type": "stream",
     "text": [
      "Input Train Shape :  (331, 1)\n",
      "Input Test Shape :  (83, 1)\n"
     ]
    }
   ],
   "source": [
    "print(\"Input Train Shape : \", X_train_arr.shape)\n",
    "print(\"Input Test Shape : \", X_test_arr.shape)"
   ]
  },
  {
   "cell_type": "code",
   "execution_count": 14,
   "metadata": {},
   "outputs": [
    {
     "name": "stdout",
     "output_type": "stream",
     "text": [
      "Output Train Shape :  (331, 1)\n",
      "Output Test Shape :  (83, 1)\n"
     ]
    }
   ],
   "source": [
    "print(\"Output Train Shape : \", Y_train_arr.shape)\n",
    "print(\"Output Test Shape : \", Y_test_arr.shape)"
   ]
  },
  {
   "cell_type": "markdown",
   "metadata": {},
   "source": [
    "### **Data Visualization**"
   ]
  },
  {
   "cell_type": "code",
   "execution_count": 15,
   "metadata": {},
   "outputs": [
    {
     "data": {
      "text/plain": [
       "<module 'matplotlib.pyplot' from 'C:\\\\Users\\\\91939\\\\Anaconda3\\\\lib\\\\site-packages\\\\matplotlib\\\\pyplot.py'>"
      ]
     },
     "execution_count": 15,
     "metadata": {},
     "output_type": "execute_result"
    },
    {
     "data": {
      "image/png": "[encoded data removed]",
      "text/plain": [
       "<Figure size 432x288 with 1 Axes>"
      ]
     },
     "metadata": {
      "needs_background": "light"
     },
     "output_type": "display_data"
    }
   ],
   "source": [
    "plt.scatter(X_train_arr, Y_train_arr)\n",
    "plt.title(\"Scatter Plot-Training\")\n",
    "plt.xlabel(\"House Price of Unit Area\")\n",
    "plt.ylabel(\"House Age\")\n",
    "plt"
   ]
  },
  {
   "cell_type": "code",
   "execution_count": 16,
   "metadata": {},
   "outputs": [
    {
     "data": {
      "text/plain": [
       "<module 'matplotlib.pyplot' from 'C:\\\\Users\\\\91939\\\\Anaconda3\\\\lib\\\\site-packages\\\\matplotlib\\\\pyplot.py'>"
      ]
     },
     "execution_count": 16,
     "metadata": {},
     "output_type": "execute_result"
    },
    {
     "data": {
      "image/png": "[encoded data removed]",
      "text/plain": [
       "<Figure size 432x288 with 1 Axes>"
      ]
     },
     "metadata": {
      "needs_background": "light"
     },
     "output_type": "display_data"
    }
   ],
   "source": [
    "plt.scatter(X_test_arr, Y_test_arr)\n",
    "plt.title(\"Scatter Plot-Testing\")\n",
    "plt.xlabel(\"House Price of Unit Area\")\n",
    "plt.ylabel(\"House Age\")\n",
    "plt"
   ]
  },
  {
   "cell_type": "markdown",
   "metadata": {},
   "source": [
    "### **Initializing Parameters**"
   ]
  },
  {
   "cell_type": "code",
   "execution_count": 17,
   "metadata": {},
   "outputs": [],
   "source": [
    "def initialize_with_zeros(dim):\n",
    "    theta = []\n",
    "    weight = np.zeros((dim, 1))\n",
    "    bias = 0\n",
    "    theta.append(weight)\n",
    "    theta.append(bias)\n",
    "    return theta"
   ]
  },
  {
   "cell_type": "markdown",
   "metadata": {},
   "source": [
    "### **Hypothesis Function**"
   ]
  },
  {
   "cell_type": "code",
   "execution_count": 18,
   "metadata": {},
   "outputs": [],
   "source": [
    "def hypothesis(theta, x):\n",
    "    z = x * theta[1] + theta[0]\n",
    "    return z"
   ]
  },
  {
   "cell_type": "markdown",
   "metadata": {},
   "source": [
    "### **Cost Function**"
   ]
  },
  {
   "cell_type": "code",
   "execution_count": 19,
   "metadata": {},
   "outputs": [],
   "source": [
    "def cost_func(x, y, theta):\n",
    "    sum = 0\n",
    "    for i in range(len(x)):\n",
    "        sum += (hypothesis(theta, x[i]) - y[i]) ** 2\n",
    "    return sum / len(x)"
   ]
  },
  {
   "cell_type": "markdown",
   "metadata": {},
   "source": [
    "### **Gradient Function**"
   ]
  },
  {
   "cell_type": "code",
   "execution_count": 20,
   "metadata": {},
   "outputs": [],
   "source": [
    "def grad_func(x, y, theta, l_rate):\n",
    "    slope_drev = 0\n",
    "    const_drev = 0\n",
    "    cost_each_iter = []\n",
    "    revised_param = []\n",
    "    \n",
    "    for i in range(len(x)):\n",
    "        slope_drev += 2 * x[i] * (hypothesis(theta, x[i]) - y[i])\n",
    "        const_drev += 2 * (hypothesis(theta, x[i]) - y[i])\n",
    "        cost_each_iter.append(cost_func(x, y, theta)[0])\n",
    "        theta[1] -= l_rate * slope_drev\n",
    "        theta[0] -= l_rate * const_drev\n",
    "        revised_param = {\"slope\": theta[1], \"constant\": theta[0]}\n",
    "    \n",
    "    return cost_each_iter, revised_param"
   ]
  },
  {
   "cell_type": "markdown",
   "metadata": {},
   "source": [
    "### **Training**"
   ]
  },
  {
   "cell_type": "code",
   "execution_count": 21,
   "metadata": {},
   "outputs": [],
   "source": [
    "def train(x, y, theta, l_rate, iterations):\n",
    "    param = []\n",
    "    \n",
    "    for i in range(iterations):\n",
    "        cost_each_iter, revised_param = grad_func(x, y, theta, l_rate)\n",
    "        theta[1] = revised_param[\"slope\"]\n",
    "        theta[0] = revised_param[\"constant\"]\n",
    "        \n",
    "        if i % 10 == 0:\n",
    "            print(\"Cost at \", i, \"th iteration:\", cost_func(x, y, theta)[0])\n",
    "        \n",
    "        param = {\"slope\": theta[1], \"constant\": theta[0]}\n",
    "        \n",
    "    return param, cost_each_iter, revised_param"
   ]
  },
  {
   "cell_type": "markdown",
   "metadata": {},
   "source": [
    "### **Prediction Function**"
   ]
  },
  {
   "cell_type": "code",
   "execution_count": 22,
   "metadata": {},
   "outputs": [],
   "source": [
    "def predict(after_hypo, m):\n",
    "    m = m.shape[0]\n",
    "    y_pred = np.zeros((1, m))\n",
    "    y_prediction = []\n",
    "    for i in range(after_hypo.shape[0]):\n",
    "        if after_hypo[i, 0] > 37:                    \n",
    "            y_pred[0, i] = 40\n",
    "        else:\n",
    "            y_pred[0, i] = 35\n",
    "        y_prediction.append(y_pred[0, i])\n",
    "    return y_prediction"
   ]
  },
  {
   "cell_type": "markdown",
   "metadata": {},
   "source": [
    "### **Loading Into A Model**"
   ]
  },
  {
   "cell_type": "code",
   "execution_count": 23,
   "metadata": {},
   "outputs": [],
   "source": [
    "def model():\n",
    "    l_rate = 0.000001\n",
    "    iterations = 500\n",
    "    theta = initialize_with_zeros(1)\n",
    "    param, cost_each_iter, revised_param = train(X_train_arr, Y_train_arr, theta, l_rate, iterations)\n",
    "    return param, cost_each_iter, revised_param"
   ]
  },
  {
   "cell_type": "code",
   "execution_count": 24,
   "metadata": {},
   "outputs": [
    {
     "name": "stdout",
     "output_type": "stream",
     "text": [
      "Cost at  0 th iteration: [1454.72868121]\n",
      "Cost at  10 th iteration: [473.99139369]\n",
      "Cost at  20 th iteration: [316.72612458]\n",
      "Cost at  30 th iteration: [248.1552641]\n",
      "Cost at  40 th iteration: [212.79651681]\n",
      "Cost at  50 th iteration: [194.35994508]\n",
      "Cost at  60 th iteration: [184.80097764]\n",
      "Cost at  70 th iteration: [179.89365214]\n",
      "Cost at  80 th iteration: [177.41043652]\n",
      "Cost at  90 th iteration: [176.18079642]\n",
      "Cost at  100 th iteration: [175.5923964]\n",
      "Cost at  110 th iteration: [175.32681594]\n",
      "Cost at  120 th iteration: [175.21984167]\n",
      "Cost at  130 th iteration: [175.18779391]\n",
      "Cost at  140 th iteration: [175.18878379]\n",
      "Cost at  150 th iteration: [175.20241247]\n",
      "Cost at  160 th iteration: [175.21918625]\n",
      "Cost at  170 th iteration: [175.23503583]\n",
      "Cost at  180 th iteration: [175.24850679]\n",
      "Cost at  190 th iteration: [175.25934055]\n",
      "Cost at  200 th iteration: [175.26777356]\n",
      "Cost at  210 th iteration: [175.27420338]\n",
      "Cost at  220 th iteration: [175.27903913]\n",
      "Cost at  230 th iteration: [175.28264218]\n",
      "Cost at  240 th iteration: [175.2853094]\n",
      "Cost at  250 th iteration: [175.28727484]\n",
      "Cost at  260 th iteration: [175.28871845]\n",
      "Cost at  270 th iteration: [175.28977631]\n",
      "Cost at  280 th iteration: [175.29055019]\n",
      "Cost at  290 th iteration: [175.29111566]\n",
      "Cost at  300 th iteration: [175.29152847]\n",
      "Cost at  310 th iteration: [175.29182964]\n",
      "Cost at  320 th iteration: [175.29204927]\n",
      "Cost at  330 th iteration: [175.29220938]\n",
      "Cost at  340 th iteration: [175.29232607]\n",
      "Cost at  350 th iteration: [175.2924111]\n",
      "Cost at  360 th iteration: [175.29247306]\n",
      "Cost at  370 th iteration: [175.29251819]\n",
      "Cost at  380 th iteration: [175.29255107]\n",
      "Cost at  390 th iteration: [175.29257502]\n",
      "Cost at  400 th iteration: [175.29259247]\n",
      "Cost at  410 th iteration: [175.29260518]\n",
      "Cost at  420 th iteration: [175.29261443]\n",
      "Cost at  430 th iteration: [175.29262118]\n",
      "Cost at  440 th iteration: [175.29262609]\n",
      "Cost at  450 th iteration: [175.29262966]\n",
      "Cost at  460 th iteration: [175.29263227]\n",
      "Cost at  470 th iteration: [175.29263417]\n",
      "Cost at  480 th iteration: [175.29263555]\n",
      "Cost at  490 th iteration: [175.29263655]\n"
     ]
    }
   ],
   "source": [
    "param, cost_each_iter, revised_param = model()"
   ]
  },
  {
   "cell_type": "code",
   "execution_count": 25,
   "metadata": {},
   "outputs": [],
   "source": [
    "theta = []\n",
    "theta.append(param[\"constant\"])\n",
    "theta.append(param[\"slope\"])\n",
    "after_hypo = hypothesis(theta, X_train_arr)\n",
    "train_pred = predict(after_hypo, X_train_arr)\n",
    "after_hypo_test = hypothesis(theta, X_test_arr)\n",
    "test_pred = predict(after_hypo_test, X_test_arr)"
   ]
  },
  {
   "cell_type": "code",
   "execution_count": 26,
   "metadata": {},
   "outputs": [
    {
     "name": "stdout",
     "output_type": "stream",
     "text": [
      "(331, 1)\n"
     ]
    }
   ],
   "source": [
    "print(after_hypo.shape)"
   ]
  },
  {
   "cell_type": "code",
   "execution_count": 27,
   "metadata": {},
   "outputs": [
    {
     "name": "stdout",
     "output_type": "stream",
     "text": [
      "[35.0, 40.0, 35.0, 35.0, 40.0, 40.0, 35.0, 35.0, 40.0, 35.0, 35.0, 35.0, 40.0, 40.0, 40.0, 40.0, 35.0, 40.0, 40.0, 40.0, 40.0, 40.0, 40.0, 40.0, 40.0, 35.0, 40.0, 40.0, 35.0, 40.0, 40.0, 40.0, 35.0, 40.0, 35.0, 35.0, 35.0, 40.0, 40.0, 40.0, 40.0, 35.0, 40.0, 40.0, 40.0, 40.0, 35.0, 40.0, 35.0, 35.0, 40.0, 35.0, 40.0, 40.0, 40.0, 35.0, 40.0, 35.0, 35.0, 40.0, 35.0, 40.0, 40.0, 35.0, 40.0, 40.0, 40.0, 40.0, 40.0, 35.0, 40.0, 40.0, 35.0, 35.0, 40.0, 40.0, 35.0, 35.0, 40.0, 40.0, 40.0, 35.0, 40.0, 40.0, 35.0, 35.0, 40.0, 40.0, 40.0, 35.0, 40.0, 35.0, 40.0, 35.0, 40.0, 35.0, 35.0, 40.0, 40.0, 40.0, 35.0, 35.0, 35.0, 40.0, 40.0, 35.0, 40.0, 40.0, 40.0, 35.0, 40.0, 40.0, 40.0, 40.0, 35.0, 35.0, 35.0, 35.0, 35.0, 35.0, 40.0, 40.0, 40.0, 40.0, 40.0, 40.0, 35.0, 40.0, 35.0, 40.0, 40.0, 40.0, 40.0, 35.0, 40.0, 35.0, 40.0, 35.0, 40.0, 35.0, 40.0, 35.0, 35.0, 40.0, 40.0, 35.0, 35.0, 35.0, 40.0, 35.0, 40.0, 35.0, 40.0, 40.0, 35.0, 40.0, 35.0, 40.0, 40.0, 40.0, 40.0, 40.0, 35.0, 40.0, 40.0, 40.0, 35.0, 40.0, 35.0, 40.0, 35.0, 40.0, 35.0, 40.0, 35.0, 40.0, 40.0, 40.0, 35.0, 40.0, 35.0, 40.0, 40.0, 40.0, 40.0, 40.0, 40.0, 40.0, 40.0, 35.0, 35.0, 35.0, 40.0, 40.0, 40.0, 40.0, 40.0, 35.0, 40.0, 40.0, 35.0, 40.0, 40.0, 35.0, 35.0, 40.0, 40.0, 40.0, 35.0, 40.0, 35.0, 40.0, 40.0, 35.0, 40.0, 40.0, 40.0, 40.0, 35.0, 40.0, 40.0, 40.0, 40.0, 35.0, 40.0, 35.0, 40.0, 40.0, 40.0, 40.0, 40.0, 35.0, 40.0, 40.0, 40.0, 40.0, 40.0, 40.0, 40.0, 40.0, 35.0, 35.0, 40.0, 35.0, 35.0, 40.0, 40.0, 40.0, 35.0, 40.0, 40.0, 40.0, 40.0, 40.0, 35.0, 40.0, 40.0, 40.0, 40.0, 40.0, 40.0, 35.0, 40.0, 35.0, 40.0, 40.0, 40.0, 40.0, 40.0, 35.0, 40.0, 40.0, 35.0, 40.0, 40.0, 40.0, 35.0, 40.0, 40.0, 40.0, 35.0, 35.0, 40.0, 40.0, 40.0, 40.0, 40.0, 35.0, 35.0, 35.0, 35.0, 35.0, 35.0, 40.0, 40.0, 35.0, 35.0, 40.0, 40.0, 40.0, 40.0, 40.0, 40.0, 40.0, 35.0, 35.0, 35.0, 35.0, 40.0, 40.0, 40.0, 40.0, 35.0, 35.0, 40.0, 40.0, 40.0, 40.0, 40.0, 35.0, 40.0, 35.0, 35.0, 40.0, 35.0, 35.0, 40.0, 40.0, 40.0, 35.0, 40.0]\n"
     ]
    }
   ],
   "source": [
    "print(train_pred)"
   ]
  },
  {
   "cell_type": "code",
   "execution_count": 28,
   "metadata": {},
   "outputs": [
    {
     "name": "stdout",
     "output_type": "stream",
     "text": [
      "[35.0, 35.0, 40.0, 35.0, 35.0, 40.0, 40.0, 35.0, 35.0, 35.0, 35.0, 35.0, 40.0, 35.0, 40.0, 40.0, 35.0, 35.0, 40.0, 40.0, 35.0, 35.0, 40.0, 35.0, 40.0, 40.0, 40.0, 40.0, 40.0, 35.0, 35.0, 35.0, 40.0, 35.0, 40.0, 40.0, 35.0, 35.0, 40.0, 40.0, 35.0, 35.0, 40.0, 35.0, 40.0, 40.0, 35.0, 40.0, 35.0, 35.0, 40.0, 40.0, 40.0, 35.0, 40.0, 40.0, 35.0, 40.0, 40.0, 40.0, 40.0, 40.0, 40.0, 35.0, 40.0, 40.0, 40.0, 40.0, 35.0, 40.0, 40.0, 40.0, 40.0, 40.0, 35.0, 40.0, 40.0, 35.0, 40.0, 35.0, 40.0, 35.0, 40.0]\n"
     ]
    }
   ],
   "source": [
    "print(test_pred)"
   ]
  },
  {
   "cell_type": "code",
   "execution_count": 29,
   "metadata": {},
   "outputs": [
    {
     "data": {
      "image/png": "[encoded data removed]",
      "text/plain": [
       "<Figure size 432x288 with 1 Axes>"
      ]
     },
     "metadata": {
      "needs_background": "light"
     },
     "output_type": "display_data"
    }
   ],
   "source": [
    "plt.plot(cost_each_iter)\n",
    "plt.xlabel(\"Iterations\")\n",
    "plt.ylabel(\"Cost\")\n",
    "plt.title(\"Gradient Function\")\n",
    "plt.show()"
   ]
  },
  {
   "cell_type": "code",
   "execution_count": 30,
   "metadata": {},
   "outputs": [
    {
     "data": {
      "image/png": "[encoded data removed]",
      "text/plain": [
       "<Figure size 432x288 with 1 Axes>"
      ]
     },
     "metadata": {
      "needs_background": "light"
     },
     "output_type": "display_data"
    }
   ],
   "source": [
    "plt.scatter(X_train_arr, Y_train_arr)\n",
    "plt.title(\"Regression Line-Training\")\n",
    "plt.xlabel(\"House Price of Unit Area\")\n",
    "plt.ylabel(\"House Age\")\n",
    "plt.plot(X_train_arr, train_pred, color='red', linewidth=3)\n",
    "plt.show()"
   ]
  },
  {
   "cell_type": "code",
   "execution_count": 31,
   "metadata": {},
   "outputs": [
    {
     "data": {
      "image/png": "[encoded data removed]",
      "text/plain": [
       "<Figure size 432x288 with 1 Axes>"
      ]
     },
     "metadata": {
      "needs_background": "light"
     },
     "output_type": "display_data"
    }
   ],
   "source": [
    "plt.scatter(X_test_arr, Y_test_arr)\n",
    "plt.title(\"Regression Line-Testing\")\n",
    "plt.xlabel(\"House Price of Unit Area\")\n",
    "plt.ylabel(\"House Age\")\n",
    "plt.plot(X_test_arr, test_pred, color='red', linewidth=3)\n",
    "plt.show()"
   ]
  },
  {
   "cell_type": "code",
   "execution_count": 32,
   "metadata": {},
   "outputs": [
    {
     "name": "stdout",
     "output_type": "stream",
     "text": [
      "Train Accuracy: 88.95528700906344 %\n",
      "Test Accuracy: 89.76176513282044 %\n"
     ]
    }
   ],
   "source": [
    "print(\"Train Accuracy: {} %\".format(100 - np.mean(np.abs(train_pred - Y_train_arr))))\n",
    "print(\"Test Accuracy: {} %\".format(100 - np.mean(np.abs(test_pred - Y_test_arr))))"
   ]
  },
  {
   "cell_type": "code",
   "execution_count": null,
   "metadata": {},
   "outputs": [],
   "source": []
  }
 ],
 "metadata": {
  "kernelspec": {
   "display_name": "Python 3",
   "language": "python",
   "name": "python3"
  },
  "language_info": {
   "codemirror_mode": {
    "name": "ipython",
    "version": 3
   },
   "file_extension": ".py",
   "mimetype": "text/x-python",
   "name": "python",
   "nbconvert_exporter": "python",
   "pygments_lexer": "ipython3",
   "version": "3.7.7"
  }
 },
 "nbformat": 4,
 "nbformat_minor": 4
}
